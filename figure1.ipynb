{
 "cells": [
  {
   "cell_type": "code",
   "execution_count": 1,
   "id": "d33be8e9",
   "metadata": {},
   "outputs": [
    {
     "data": {
      "text/plain": [
       "\"/groups/scicompsoft/home/arthurb/projects/darshan/ArthurKimChenPreibischDarshan2023\""
      ]
     },
     "execution_count": 1,
     "metadata": {},
     "output_type": "execute_result"
    }
   ],
   "source": [
    "pwd()"
   ]
  },
  {
   "cell_type": "code",
   "execution_count": 2,
   "id": "a2d0a4b9",
   "metadata": {},
   "outputs": [
    {
     "name": "stderr",
     "output_type": "stream",
     "text": [
      "\u001b[32m\u001b[1m  Activating\u001b[22m\u001b[39m project at `/groups/scicompsoft/home/arthurb/projects/darshan/ArthurKimChenPreibischDarshan2023`\n"
     ]
    }
   ],
   "source": [
    "]activate ."
   ]
  },
  {
   "cell_type": "code",
   "execution_count": 3,
   "id": "36663e22",
   "metadata": {},
   "outputs": [],
   "source": [
    "using TrainSpikingNet"
   ]
  },
  {
   "cell_type": "code",
   "execution_count": 4,
   "id": "e1528c14",
   "metadata": {},
   "outputs": [
    {
     "data": {
      "text/plain": [
       "(10000, 20000, 50000)"
      ]
     },
     "execution_count": 4,
     "metadata": {},
     "output_type": "execute_result"
    }
   ],
   "source": [
    "N = (10000, 20000, 50000)"
   ]
  },
  {
   "cell_type": "code",
   "execution_count": 5,
   "id": "445bfd2c",
   "metadata": {},
   "outputs": [
    {
     "name": "stderr",
     "output_type": "stream",
     "text": [
      "\u001b[36m\u001b[1m[ \u001b[22m\u001b[39m\u001b[36m\u001b[1mInfo: \u001b[22m\u001b[39m10000\n"
     ]
    },
    {
     "name": "stdout",
     "output_type": "stream",
     "text": [
      "LBTConfig([ILP64] libmkl_rt.so, [LP64] libmkl_rt.so)\n",
      "mean excitatory firing rate: 4.0685 Hz\n",
      "mean inhibitory firing rate: 7.3274 Hz\n",
      "Loop no. 1, task no. 1\n",
      "elapsed time: 11.027350902557373 sec\n",
      "firing rate: 5.46255 Hz\n",
      "Loop no. 2, task no. 1\n",
      "elapsed time: 10.310832023620605 sec\n",
      "firing rate: 5.4586 Hz\n",
      "Loop no. 3, task no. 1\n",
      "elapsed time: 10.13038182258606 sec\n",
      "firing rate: 5.4604 Hz\n",
      "Loop no. 4, task no. 1\n",
      "elapsed time: 10.379148006439209 sec\n",
      "firing rate: 5.46965 Hz\n",
      "Loop no. 5, task no. 1\n",
      "elapsed time: 10.602964878082275 sec\n",
      "firing rate: 5.4766 Hz\n",
      "Loop no. 6, task no. 1\n",
      "elapsed time: 10.300296783447266 sec\n",
      "firing rate: 5.47255 Hz\n",
      "Loop no. 7, task no. 1\n",
      "elapsed time: 10.15105414390564 sec\n",
      "firing rate: 5.48445 Hz\n",
      "Loop no. 8, task no. 1\n",
      "elapsed time: 10.094385862350464 sec\n",
      "firing rate: 5.48925 Hz\n",
      "Loop no. 9, task no. 1\n",
      "elapsed time: 9.494551181793213 sec\n",
      "firing rate: 5.4831 Hz\n",
      "Loop no. 10, task no. 1\n",
      "elapsed time: 15.47248888015747 sec\n",
      "firing rate: 5.48565 Hz\n",
      "LBTConfig([ILP64] libmkl_rt.so, [LP64] libmkl_rt.so)\n"
     ]
    },
    {
     "name": "stderr",
     "output_type": "stream",
     "text": [
      "\u001b[36m\u001b[1m[ \u001b[22m\u001b[39m\u001b[36m\u001b[1mInfo: \u001b[22m\u001b[39m20000\n"
     ]
    },
    {
     "name": "stdout",
     "output_type": "stream",
     "text": [
      "mean excitatory firing rate: 4.03585 Hz\n",
      "mean inhibitory firing rate: 7.3531 Hz\n",
      "Loop no. 1, task no. 1\n",
      "elapsed time: 20.049821138381958 sec\n",
      "firing rate: 5.45285 Hz\n",
      "Loop no. 2, task no. 1\n",
      "elapsed time: 16.886746883392334 sec\n",
      "firing rate: 5.45785 Hz\n",
      "Loop no. 3, task no. 1\n",
      "elapsed time: 19.633852005004883 sec\n",
      "firing rate: 5.4654 Hz\n",
      "Loop no. 4, task no. 1\n",
      "elapsed time: 16.428849935531616 sec\n",
      "firing rate: 5.460825 Hz\n",
      "Loop no. 5, task no. 1\n",
      "elapsed time: 19.231980800628662 sec\n",
      "firing rate: 5.46245 Hz\n",
      "Loop no. 6, task no. 1\n",
      "elapsed time: 16.010476112365723 sec\n",
      "firing rate: 5.458725 Hz\n",
      "Loop no. 7, task no. 1\n",
      "elapsed time: 19.258574962615967 sec\n",
      "firing rate: 5.4625 Hz\n",
      "Loop no. 8, task no. 1\n",
      "elapsed time: 16.240751028060913 sec\n",
      "firing rate: 5.459575 Hz\n",
      "Loop no. 9, task no. 1\n",
      "elapsed time: 19.049234867095947 sec\n",
      "firing rate: 5.4657 Hz\n",
      "Loop no. 10, task no. 1\n",
      "elapsed time: 25.599079132080078 sec\n",
      "firing rate: 5.4695 Hz\n"
     ]
    },
    {
     "name": "stderr",
     "output_type": "stream",
     "text": [
      "\u001b[36m\u001b[1m[ \u001b[22m\u001b[39m\u001b[36m\u001b[1mInfo: \u001b[22m\u001b[39m50000\n"
     ]
    },
    {
     "name": "stdout",
     "output_type": "stream",
     "text": [
      "LBTConfig([ILP64] libmkl_rt.so, [LP64] libmkl_rt.so)\n",
      "mean excitatory firing rate: 4.04982 Hz\n",
      "mean inhibitory firing rate: 7.38974 Hz\n",
      "Loop no. 1, task no. 1\n",
      "elapsed time: 48.611263036727905 sec\n",
      "firing rate: 5.47982 Hz\n",
      "Loop no. 2, task no. 1\n",
      "elapsed time: 45.36648416519165 sec\n",
      "firing rate: 5.48533 Hz\n",
      "Loop no. 3, task no. 1\n",
      "elapsed time: 57.68014597892761 sec\n",
      "firing rate: 5.48251 Hz\n",
      "Loop no. 4, task no. 1\n",
      "elapsed time: 43.357369899749756 sec\n",
      "firing rate: 5.485 Hz\n",
      "Loop no. 5, task no. 1\n",
      "elapsed time: 42.62958788871765 sec\n",
      "firing rate: 5.48645 Hz\n",
      "Loop no. 6, task no. 1\n",
      "elapsed time: 42.52591681480408 sec\n",
      "firing rate: 5.49597 Hz\n",
      "Loop no. 7, task no. 1\n",
      "elapsed time: 54.74465203285217 sec\n",
      "firing rate: 5.49232 Hz\n",
      "Loop no. 8, task no. 1\n",
      "elapsed time: 44.56774711608887 sec\n",
      "firing rate: 5.49583 Hz\n",
      "Loop no. 9, task no. 1\n",
      "elapsed time: 44.40165400505066 sec\n",
      "firing rate: 5.49619 Hz\n",
      "Loop no. 10, task no. 1\n",
      "elapsed time: 74.79863214492798 sec\n",
      "firing rate: 5.49708 Hz\n"
     ]
    }
   ],
   "source": [
    "for n in N\n",
    "    @info n\n",
    "    param(\"sinusoid-N$(n)-K512-L45/\")\n",
    "    config(\"sinusoid-N$(n)-K512-L45/\", :cpu)\n",
    "    init()\n",
    "    train(nloops=10, correlation_interval=11)\n",
    "end"
   ]
  },
  {
   "cell_type": "code",
   "execution_count": 6,
   "id": "3bbfb607",
   "metadata": {},
   "outputs": [],
   "source": [
    "using JLD2, Statistics"
   ]
  },
  {
   "cell_type": "code",
   "execution_count": 7,
   "id": "877d7f0e",
   "metadata": {},
   "outputs": [],
   "source": [
    "x = Float64[]\n",
    "y = Float64[]\n",
    "for n in N\n",
    "    curve = load(\"sinusoid-N$(n)-K512-L45/learning-curve.jld2\")\n",
    "    push!(x, n)\n",
    "    push!(y, median(curve[\"elapsed_time\"]))\n",
    "end"
   ]
  },
  {
   "cell_type": "code",
   "execution_count": 8,
   "id": "75914f88",
   "metadata": {},
   "outputs": [],
   "source": [
    "using CairoMakie"
   ]
  },
  {
   "cell_type": "code",
   "execution_count": 9,
   "id": "9071be81",
   "metadata": {},
   "outputs": [
    {
     "data": {
      "image/png": "[encoded data removed]"
     },
     "execution_count": 9,
     "metadata": {},
     "output_type": "execute_result"
    }
   ],
   "source": [
    "fig, ax, _ = scatterlines(x, y)\n",
    "ax.xscale = log10\n",
    "ax.yscale = log10\n",
    "ax.xlabel = \"N\"\n",
    "ax.ylabel = \"loop time\"\n",
    "text!(ax, \"K=512\\nL=45\", position=(12000,34), space = :data)\n",
    "fig"
   ]
  }
 ],
 "metadata": {
  "kernelspec": {
   "display_name": "Julia auto threads 1.9.0",
   "language": "julia",
   "name": "julia-auto-threads-1.9"
  },
  "language_info": {
   "file_extension": ".jl",
   "mimetype": "application/julia",
   "name": "julia",
   "version": "1.9.0"
  }
 },
 "nbformat": 4,
 "nbformat_minor": 5
}
